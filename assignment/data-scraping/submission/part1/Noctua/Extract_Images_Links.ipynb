{
  "nbformat": 4,
  "nbformat_minor": 0,
  "metadata": {
    "colab": {
      "provenance": [],
      "authorship_tag": "ABX9TyNacBo6Nz9LDeQORSS4AmaQ",
      "include_colab_link": true
    },
    "kernelspec": {
      "name": "python3",
      "display_name": "Python 3"
    },
    "language_info": {
      "name": "python"
    }
  },
  "cells": [
    {
      "cell_type": "markdown",
      "metadata": {
        "id": "view-in-github",
        "colab_type": "text"
      },
      "source": [
        "<a href=\"https://colab.research.google.com/github/drshahizan/special-topic-data-engineering/blob/main/assignment/data-scraping/submission/part1/Noctua/Extract_Images_Links.ipynb\" target=\"_parent\"><img src=\"https://colab.research.google.com/assets/colab-badge.svg\" alt=\"Open In Colab\"/></a>"
      ]
    },
    {
      "cell_type": "code",
      "source": [
        "# Import libraries\n",
        "import urllib.request\n",
        "import numpy as np"
      ],
      "metadata": {
        "id": "kbBZraa5YIGo"
      },
      "execution_count": 54,
      "outputs": []
    },
    {
      "cell_type": "code",
      "source": [
        "pics = urllib.request.urlopen(\"https://www.flickr.com/search?text=battleship\")"
      ],
      "metadata": {
        "id": "pwQSUJq6YIJ9"
      },
      "execution_count": 55,
      "outputs": []
    },
    {
      "cell_type": "code",
      "source": [
        "# Make any Unicode character code readable\n",
        "str = pics.read().decode(\"utf8\")\n",
        "pics.close()"
      ],
      "metadata": {
        "id": "vehavTpAYIM6"
      },
      "execution_count": 61,
      "outputs": []
    },
    {
      "cell_type": "code",
      "source": [
        "# In Flickr, only images with the last string (\"underscore\" \"any kind of alphabet\") can be scrap\n",
        "# The Hell I know why nor whould I care\n",
        "res = [i for i in range(len(str)) if str.startswith('_b.jpg', i) or str.startswith('_c.jpg', i)]\n",
        "a = []\n",
        "for i in res:\n",
        "    s = 'https://' + str[i - 70:i + 6].replace('\\\\', '').split('//')[-1]\n",
        "    a.append(s)\n",
        "a = list(np.unique(np.array(a)))"
      ],
      "metadata": {
        "id": "UPj3YcPlYISm"
      },
      "execution_count": 62,
      "outputs": []
    },
    {
      "cell_type": "code",
      "source": [
        "print(len(a), a)"
      ],
      "metadata": {
        "id": "6UGfZE-9YIVP"
      },
      "execution_count": null,
      "outputs": []
    }
  ]
}