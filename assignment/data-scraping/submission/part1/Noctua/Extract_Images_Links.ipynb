{
  "nbformat": 4,
  "nbformat_minor": 0,
  "metadata": {
    "colab": {
      "provenance": [],
      "authorship_tag": "ABX9TyOGxzcQ3agnV26fUjMZSBcS",
      "include_colab_link": true
    },
    "kernelspec": {
      "name": "python3",
      "display_name": "Python 3"
    },
    "language_info": {
      "name": "python"
    }
  },
  "cells": [
    {
      "cell_type": "markdown",
      "metadata": {
        "id": "view-in-github",
        "colab_type": "text"
      },
      "source": [
        "<a href=\"https://colab.research.google.com/github/drshahizan/special-topic-data-engineering/blob/main/assignment/data-scraping/submission/part1/Noctua/Extract_Images_Links.ipynb\" target=\"_parent\"><img src=\"https://colab.research.google.com/assets/colab-badge.svg\" alt=\"Open In Colab\"/></a>"
      ]
    },
    {
      "cell_type": "markdown",
      "source": [
        "## Extarct Image Test 1\n",
        "\n",
        "> Extarct all image in a webpage\n",
        "\n",
        "*   No API\n",
        "*   No Python Image Extraction Library\n",
        "\n",
        "> Results\n",
        "\n",
        "*   Generate Links to a rogue webpage\n",
        "*   Images generated is nominal\n",
        "*   Images only with the format (_x.jpg) where is x is any alphabet\n",
        "*   Images aprt from this format gives error"
      ],
      "metadata": {
        "id": "8lWiramWczGj"
      }
    },
    {
      "cell_type": "code",
      "source": [
        "# Import libraries\n",
        "import urllib.request\n",
        "import numpy as np"
      ],
      "metadata": {
        "id": "kbBZraa5YIGo"
      },
      "execution_count": 79,
      "outputs": []
    },
    {
      "cell_type": "code",
      "source": [
        "pics = urllib.request.urlopen(\"https://www.flickr.com/search?text=battleship\")"
      ],
      "metadata": {
        "id": "pwQSUJq6YIJ9"
      },
      "execution_count": 80,
      "outputs": []
    },
    {
      "cell_type": "code",
      "source": [
        "# Make any Unicode character code readable\n",
        "str = pics.read().decode(\"utf8\")\n",
        "pics.close()"
      ],
      "metadata": {
        "id": "vehavTpAYIM6"
      },
      "execution_count": 81,
      "outputs": []
    },
    {
      "cell_type": "markdown",
      "source": [
        "Code using the \".startwith\" function gives links"
      ],
      "metadata": {
        "id": "K7Qt6TPUeMRf"
      }
    },
    {
      "cell_type": "code",
      "source": [
        "# In Flickr, only images with the last string (\"underscore\" \"any kind of alphabet\") can be scrap\n",
        "# The Hell I know why nor whould I care\n",
        "res = [i for i in range(len(str)) if str.startswith('_b.jpg', i) or str.startswith('_c.jpg', i)]\n",
        "a = []\n",
        "for i in res:\n",
        "    s = 'https://' + str[i - 70:i + 6].replace('\\\\', '').split('//')[-1]\n",
        "    a.append(s)\n",
        "a = list(np.unique(np.array(a)))"
      ],
      "metadata": {
        "id": "UPj3YcPlYISm"
      },
      "execution_count": 82,
      "outputs": []
    },
    {
      "cell_type": "code",
      "source": [
        "print(len(a), a)"
      ],
      "metadata": {
        "colab": {
          "base_uri": "https://localhost:8080/"
        },
        "id": "QDhOs8Baei5m",
        "outputId": "bcfc82c2-ef3a-4bb3-84ee-2bf0a8b47e33"
      },
      "execution_count": 83,
      "outputs": [
        {
          "output_type": "stream",
          "name": "stdout",
          "text": [
            "88 ['https://live.staticflickr.com/117/281584781_4912245e07_b.jpg', 'https://live.staticflickr.com/117/281584781_4912245e07_c.jpg', 'https://live.staticflickr.com/22/32501570_422eb5ced9_b.jpg', 'https://live.staticflickr.com/22/32501570_422eb5ced9_c.jpg', 'https://live.staticflickr.com/2234/2093228429_513ff26494_b.jpg', 'https://live.staticflickr.com/2234/2093228429_513ff26494_c.jpg', 'https://live.staticflickr.com/2449/3983235732_aec823e605_b.jpg', 'https://live.staticflickr.com/2449/3983235732_aec823e605_c.jpg', 'https://live.staticflickr.com/2611/3887083013_99bbb4f8a2_b.jpg', 'https://live.staticflickr.com/2611/3887083013_99bbb4f8a2_c.jpg', 'https://live.staticflickr.com/30/55301533_742147ff07_b.jpg', 'https://live.staticflickr.com/30/55301533_742147ff07_c.jpg', 'https://live.staticflickr.com/3057/2846605593_524c932a9e_b.jpg', 'https://live.staticflickr.com/3057/2846605593_524c932a9e_c.jpg', 'https://live.staticflickr.com/3057/3368846276_3708250c59_b.jpg', 'https://live.staticflickr.com/3057/3368846276_3708250c59_c.jpg', 'https://live.staticflickr.com/3105/2752534512_d57e8ecd22_b.jpg', 'https://live.staticflickr.com/3105/2752534512_d57e8ecd22_c.jpg', 'https://live.staticflickr.com/3190/2642247052_676aed0bfb_b.jpg', 'https://live.staticflickr.com/3190/2642247052_676aed0bfb_c.jpg', 'https://live.staticflickr.com/327/31636849690_98b785b102_b.jpg', 'https://live.staticflickr.com/327/31636849690_98b785b102_c.jpg', 'https://live.staticflickr.com/3635/3351070027_6aeaf167ee_b.jpg', 'https://live.staticflickr.com/3635/3351070027_6aeaf167ee_c.jpg', 'https://live.staticflickr.com/38/120191473_0249824eb6_c.jpg', 'https://live.staticflickr.com/3854/14762396660_52b9e14987_b.jpg', 'https://live.staticflickr.com/3854/14762396660_52b9e14987_c.jpg', 'https://live.staticflickr.com/3943/15343154939_c2d279612f_b.jpg', 'https://live.staticflickr.com/3943/15343154939_c2d279612f_c.jpg', 'https://live.staticflickr.com/41/83465077_aacb1adc29_b.jpg', 'https://live.staticflickr.com/41/83465077_aacb1adc29_c.jpg', 'https://live.staticflickr.com/4134/4923664919_a6f0904956_b.jpg', 'https://live.staticflickr.com/4134/4923664919_a6f0904956_c.jpg', 'https://live.staticflickr.com/4181/34072311860_eb11270b6a_b.jpg', 'https://live.staticflickr.com/4181/34072311860_eb11270b6a_c.jpg', 'https://live.staticflickr.com/5148/5638731665_7d8509a665_b.jpg', 'https://live.staticflickr.com/5148/5638731665_7d8509a665_c.jpg', 'https://live.staticflickr.com/5265/14049453781_48d9bfe6fe_b.jpg', 'https://live.staticflickr.com/5265/14049453781_48d9bfe6fe_c.jpg', 'https://live.staticflickr.com/594/31894226061_6d16c4e467_b.jpg', 'https://live.staticflickr.com/594/31894226061_6d16c4e467_c.jpg', 'https://live.staticflickr.com/65535/16401667621_3591c7f017_b.jpg', 'https://live.staticflickr.com/65535/16401667621_3591c7f017_c.jpg', 'https://live.staticflickr.com/65535/49271903101_56d64570c5_b.jpg', 'https://live.staticflickr.com/65535/49271903101_56d64570c5_c.jpg', 'https://live.staticflickr.com/65535/50882251751_75db2b3a47_b.jpg', 'https://live.staticflickr.com/65535/50882251751_75db2b3a47_c.jpg', 'https://live.staticflickr.com/65535/51725316788_831b56886e_b.jpg', 'https://live.staticflickr.com/65535/51725316788_831b56886e_c.jpg', 'https://live.staticflickr.com/65535/51872596751_0aa9118b1e_b.jpg', 'https://live.staticflickr.com/65535/51872596751_0aa9118b1e_c.jpg', 'https://live.staticflickr.com/65535/52454931245_9bfd63e185_b.jpg', 'https://live.staticflickr.com/65535/52454931245_9bfd63e185_c.jpg', 'https://live.staticflickr.com/65535/52541304414_f948777bf4_b.jpg', 'https://live.staticflickr.com/65535/52541304414_f948777bf4_c.jpg', 'https://live.staticflickr.com/65535/52655515938_d6309e878f_b.jpg', 'https://live.staticflickr.com/65535/52655515938_d6309e878f_c.jpg', 'https://live.staticflickr.com/65535/52792477752_b9b73c17ec_b.jpg', 'https://live.staticflickr.com/65535/52792477752_b9b73c17ec_c.jpg', 'https://live.staticflickr.com/65535/52795645339_e1795d1f0e_b.jpg', 'https://live.staticflickr.com/65535/52795645339_e1795d1f0e_c.jpg', 'https://live.staticflickr.com/65535/52799299627_8dcdc6fbca_b.jpg', 'https://live.staticflickr.com/65535/52799299627_8dcdc6fbca_c.jpg', 'https://live.staticflickr.com/65535/52800870611_b52e35343d_b.jpg', 'https://live.staticflickr.com/65535/52800870611_b52e35343d_c.jpg', 'https://live.staticflickr.com/65535/52801121555_332a08a372_b.jpg', 'https://live.staticflickr.com/65535/52801121555_332a08a372_c.jpg', 'https://live.staticflickr.com/65535/52802934531_51eb89eab8_b.jpg', 'https://live.staticflickr.com/65535/52802934531_51eb89eab8_c.jpg', 'https://live.staticflickr.com/65535/52804901782_a14d7af2e8_b.jpg', 'https://live.staticflickr.com/65535/52804901782_a14d7af2e8_c.jpg', 'https://live.staticflickr.com/65535/52813200426_454eb486e6_b.jpg', 'https://live.staticflickr.com/65535/52813200426_454eb486e6_c.jpg', 'https://live.staticflickr.com/65535/52813424160_788c32e81c_b.jpg', 'https://live.staticflickr.com/65535/52813424160_788c32e81c_c.jpg', 'https://live.staticflickr.com/65535/52817062559_9db4219dd8_b.jpg', 'https://live.staticflickr.com/65535/52817062559_9db4219dd8_c.jpg', 'https://live.staticflickr.com/7049/6921797565_81bfe1689e_b.jpg', 'https://live.staticflickr.com/7049/6921797565_81bfe1689e_c.jpg', 'https://live.staticflickr.com/7330/28011471246_83b74bdefb_b.jpg', 'https://live.staticflickr.com/7330/28011471246_83b74bdefb_c.jpg', 'https://live.staticflickr.com/7681/17211176220_3ee1f4466f_c.jpg', 'https://live.staticflickr.com/81/235369630_06dcf40a1a_b.jpg', 'https://live.staticflickr.com/81/235369630_06dcf40a1a_c.jpg', 'https://live.staticflickr.com/8713/28478692093_4678e53126_b.jpg', 'https://live.staticflickr.com/8713/28478692093_4678e53126_c.jpg', 'https://live.staticflickr.com/910/41237449495_b111f115d5_b.jpg', 'https://live.staticflickr.com/910/41237449495_b111f115d5_c.jpg']\n"
          ]
        }
      ]
    },
    {
      "cell_type": "markdown",
      "source": [
        "Code without using the \".startwith\" function gives future crash error"
      ],
      "metadata": {
        "id": "RPJwle9XeVxv"
      }
    },
    {
      "cell_type": "code",
      "source": [
        "res = [i for i in range(len(str))]\n",
        "b = []\n",
        "for i in res:\n",
        "    s = 'https://' + str[i - 70:i + 6].replace('\\\\', '').split('//')[-1]\n",
        "    b.append(s)\n",
        "b = list(np.unique(np.array(b)))"
      ],
      "metadata": {
        "id": "Ox_AWPMgeJ07"
      },
      "execution_count": 84,
      "outputs": []
    },
    {
      "cell_type": "code",
      "source": [
        "print(len(b), b)"
      ],
      "metadata": {
        "colab": {
          "base_uri": "https://localhost:8080/"
        },
        "id": "6UGfZE-9YIVP",
        "outputId": "c0fd1c88-f796-474c-fcd3-7deec48d86d1"
      },
      "execution_count": 85,
      "outputs": [
        {
          "output_type": "stream",
          "name": "stdout",
          "text": [
            "437390 "
          ]
        },
        {
          "output_type": "stream",
          "name": "stderr",
          "text": [
            "IOPub data rate exceeded.\n",
            "The notebook server will temporarily stop sending output\n",
            "to the client in order to avoid crashing it.\n",
            "To change this limit, set the config variable\n",
            "`--NotebookApp.iopub_data_rate_limit`.\n",
            "\n",
            "Current values:\n",
            "NotebookApp.iopub_data_rate_limit=1000000.0 (bytes/sec)\n",
            "NotebookApp.rate_limit_window=3.0 (secs)\n",
            "\n"
          ]
        }
      ]
    },
    {
      "cell_type": "markdown",
      "source": [
        "> Conclusion\n",
        "\n",
        "*   Bed is nice\n",
        "*   I have a \"why this thing d*mn thing won't run\" moment at least four time a day\n",
        "* This world is a cruel and unjust place. There is no harmony in the universe. The only constant is suffering.\n",
        "\n"
      ],
      "metadata": {
        "id": "Bjd0jsDrewTA"
      }
    }
  ]
}