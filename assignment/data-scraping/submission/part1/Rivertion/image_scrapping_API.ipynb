{
  "nbformat": 4,
  "nbformat_minor": 0,
  "metadata": {
    "colab": {
      "provenance": []
    },
    "kernelspec": {
      "name": "python3",
      "display_name": "Python 3"
    },
    "language_info": {
      "name": "python"
    }
  },
  "cells": [
    {
      "cell_type": "code",
      "execution_count": null,
      "metadata": {
        "id": "oWmA1u9uJL19"
      },
      "outputs": [],
      "source": [
        "import requests \n",
        "\n",
        "url = f'https://pixabay.com/api/?key=35339771-b462e4b277b61d82176e7e5b8&q=banana&image_type=photo'\n",
        "\n",
        "r = requests.get(url)\n",
        "json_data = r.json()\n",
        "for image in json_data['hits']:\n",
        "  name = image['id']\n",
        "  img_url = image[\"webformatURL\"]\n",
        "  r =  requests.get(img_url, stream=True)\n",
        "  with open(str(name)+ '.jpg', 'wb') as f:\n",
        "    f.write(r.content)"
      ]
    },
    {
      "cell_type": "code",
      "source": [
        "import requests\n",
        "\n",
        "API_KEY = \"35339771-b462e4b277b61d82176e7e5b8\"\n",
        "SEARCH_TERM = \"car\"\n",
        "RESULTS_PER_PAGE = 100\n",
        "\n",
        "url = f\"https://pixabay.com/api/?key={API_KEY}&q={SEARCH_TERM}&per_page={RESULTS_PER_PAGE}\"\n",
        "\n",
        "response = requests.get(url)\n",
        "json_data = response.json()\n",
        "\n",
        "for image in json_data['hits']:\n",
        "        name = image['id']\n",
        "        img_url = image[\"webformatURL\"]\n",
        "        r =  requests.get(img_url, stream=True)\n",
        "        with open(str(name)+ '.jpg', 'wb') as f:\n",
        "          f.write(r.content)\n"
      ],
      "metadata": {
        "id": "f5xGZX19OYJB"
      },
      "execution_count": null,
      "outputs": []
    },
    {
      "cell_type": "code",
      "source": [
        "!pip install proxycrawl"
      ],
      "metadata": {
        "id": "chbMzr0zneYT",
        "colab": {
          "base_uri": "https://localhost:8080/"
        },
        "outputId": "50a44943-3fe2-485f-db68-c956f84342cd"
      },
      "execution_count": null,
      "outputs": [
        {
          "output_type": "stream",
          "name": "stdout",
          "text": [
            "Looking in indexes: https://pypi.org/simple, https://us-python.pkg.dev/colab-wheels/public/simple/\n",
            "Requirement already satisfied: proxycrawl in /usr/local/lib/python3.9/dist-packages (3.2.1)\n"
          ]
        }
      ]
    },
    {
      "cell_type": "code",
      "source": [
        "import os\n",
        "import requests  # pip install requests #to sent GET requests\n",
        "from bs4 import BeautifulSoup\n",
        "from proxycrawl.proxycrawl_api import ProxyCrawlAPI\n",
        "\n",
        "# download images from google search image URL\n",
        "Google_Image = 'https://www.google.com/search?site=&tbm=isch&source=hp&biw=1873&bih=990&'\n",
        "\n",
        "# Creating a folder to save the images and assigning to a variable for further use\n",
        "Image_Folder = 'Sky'\n",
        "\n",
        "\n",
        "def main():\n",
        "    if not os.path.exists(Image_Folder):\n",
        "        os.mkdir(Image_Folder)\n",
        "    download_images()\n",
        "\n",
        "\n",
        "def download_images():\n",
        "    data = input('Enter your search keyword: ')\n",
        "    num_images = int(input('Enter the number of images you want: '))\n",
        "\n",
        "    print('Searching Images....')\n",
        "\n",
        "    search_url = Google_Image + 'q=' + data  # 'q=' because its a query\n",
        "\n",
        "    # Enter your ProxyCrawl Javascript token, you will get this after registering in https://proxycrawl.com/ for trail and paid\n",
        "    api = ProxyCrawlAPI({'token': 'N3iH15hU_5aBSny41cSrew'})\n",
        "\n",
        "    # Parameters of ProxyCrawl\n",
        "    response = api.get(\n",
        "        search_url, {'scroll': 'true', 'scroll_interval': '60', 'ajax_wait': 'true'})\n",
        "    if response['status_code'] == 200:  # status code received from Google Site\n",
        "        # Body for ProxyCrawl token, #html.parser is used to parse/extract features from HTML files\n",
        "        b_soup = BeautifulSoup(response['body'], 'html.parser')\n",
        "        results = b_soup.findAll('img', {'class': 'rg_i Q4LuWd'})\n",
        "\n",
        "        count = 0\n",
        "        imagelinks = []\n",
        "        for res in results:\n",
        "            try:\n",
        "                link = res['data-src']\n",
        "                imagelinks.append(link)\n",
        "                count = count + 1\n",
        "                if (count >= num_images):\n",
        "                    break\n",
        "\n",
        "            except KeyError:\n",
        "                continue\n",
        "\n",
        "        print(f'Found {len(imagelinks)} images')\n",
        "        print('Start downloading...')\n",
        "\n",
        "        for i, imagelink in enumerate(imagelinks):\n",
        "            response = requests.get(imagelink)\n",
        "\n",
        "            # open each image link and save the file\n",
        "            imagename = Image_Folder + '/' + data + str(i+1) + '.jpg'\n",
        "            with open(imagename, 'wb') as file:\n",
        "                file.write(response.content)\n",
        "\n",
        "        print('Download Completed!')\n",
        "\n",
        "\n",
        "if __name__ == '__main__':\n",
        "    main()\n"
      ],
      "metadata": {
        "colab": {
          "base_uri": "https://localhost:8080/"
        },
        "id": "I1TeePPbnPyB",
        "outputId": "ca2b94e6-ea48-45a5-91f9-399044da2093"
      },
      "execution_count": null,
      "outputs": [
        {
          "output_type": "stream",
          "name": "stdout",
          "text": [
            "Enter your search keyword: sky\n",
            "Enter the number of images you want: 100\n",
            "Searching Images....\n"
          ]
        }
      ]
    },
    {
      "cell_type": "code",
      "source": [],
      "metadata": {
        "id": "0vS-a4gT2xbZ"
      },
      "execution_count": null,
      "outputs": []
    }
  ]
}