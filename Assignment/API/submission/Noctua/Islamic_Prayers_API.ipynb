{
  "nbformat": 4,
  "nbformat_minor": 0,
  "metadata": {
    "colab": {
      "provenance": [],
      "authorship_tag": "ABX9TyM46jSiG1duw8GzSltPk0Wj",
      "include_colab_link": true
    },
    "kernelspec": {
      "name": "python3",
      "display_name": "Python 3"
    },
    "language_info": {
      "name": "python"
    }
  },
  "cells": [
    {
      "cell_type": "markdown",
      "metadata": {
        "id": "view-in-github",
        "colab_type": "text"
      },
      "source": [
        "<a href=\"https://colab.research.google.com/github/drshahizan/special-topic-data-engineering/blob/main/Assignment/API/submission/Noctua/Islamic_Prayers_API.ipynb\" target=\"_parent\"><img src=\"https://colab.research.google.com/assets/colab-badge.svg\" alt=\"Open In Colab\"/></a>"
      ]
    },
    {
      "cell_type": "code",
      "execution_count": 4,
      "metadata": {
        "colab": {
          "base_uri": "https://localhost:8080/",
          "height": 493
        },
        "id": "pod7dNlYOUpz",
        "outputId": "01a88c1d-d8c7-45f7-b349-ca78d5f8dd9c"
      },
      "outputs": [
        {
          "output_type": "stream",
          "name": "stdout",
          "text": [
            "Enter your city: Perak\n",
            "      City         Date Islamic Date        Subuh       Syuruk        Zohor  \\\n",
            "0    Perak  01 Jan 2023   08-06-1444  06:01 (+08)  07:24 (+08)  13:19 (+08)   \n",
            "1    Perak  02 Jan 2023   09-06-1444  06:01 (+08)  07:24 (+08)  13:20 (+08)   \n",
            "2    Perak  03 Jan 2023   10-06-1444  06:02 (+08)  07:25 (+08)  13:20 (+08)   \n",
            "3    Perak  04 Jan 2023   11-06-1444  06:02 (+08)  07:25 (+08)  13:21 (+08)   \n",
            "4    Perak  05 Jan 2023   12-06-1444  06:02 (+08)  07:26 (+08)  13:21 (+08)   \n",
            "..     ...          ...          ...          ...          ...          ...   \n",
            "360  Perak  27 Dec 2023   14-06-1445  05:58 (+08)  07:22 (+08)  13:17 (+08)   \n",
            "361  Perak  28 Dec 2023   15-06-1445  05:58 (+08)  07:22 (+08)  13:17 (+08)   \n",
            "362  Perak  29 Dec 2023   16-06-1445  05:59 (+08)  07:22 (+08)  13:18 (+08)   \n",
            "363  Perak  30 Dec 2023   17-06-1445  05:59 (+08)  07:23 (+08)  13:18 (+08)   \n",
            "364  Perak  31 Dec 2023   18-06-1445  06:00 (+08)  07:23 (+08)  13:19 (+08)   \n",
            "\n",
            "            Asar      Maghrib         Isya  \n",
            "0    16:42 (+08)  19:15 (+08)  20:29 (+08)  \n",
            "1    16:43 (+08)  19:15 (+08)  20:30 (+08)  \n",
            "2    16:43 (+08)  19:16 (+08)  20:30 (+08)  \n",
            "3    16:44 (+08)  19:16 (+08)  20:31 (+08)  \n",
            "4    16:44 (+08)  19:17 (+08)  20:31 (+08)  \n",
            "..           ...          ...          ...  \n",
            "360  16:40 (+08)  19:12 (+08)  20:27 (+08)  \n",
            "361  16:40 (+08)  19:12 (+08)  20:27 (+08)  \n",
            "362  16:41 (+08)  19:13 (+08)  20:28 (+08)  \n",
            "363  16:41 (+08)  19:13 (+08)  20:28 (+08)  \n",
            "364  16:42 (+08)  19:14 (+08)  20:29 (+08)  \n",
            "\n",
            "[365 rows x 9 columns]\n"
          ]
        },
        {
          "output_type": "display_data",
          "data": {
            "text/plain": [
              "<IPython.core.display.Javascript object>"
            ],
            "application/javascript": [
              "\n",
              "    async function download(id, filename, size) {\n",
              "      if (!google.colab.kernel.accessAllowed) {\n",
              "        return;\n",
              "      }\n",
              "      const div = document.createElement('div');\n",
              "      const label = document.createElement('label');\n",
              "      label.textContent = `Downloading \"${filename}\": `;\n",
              "      div.appendChild(label);\n",
              "      const progress = document.createElement('progress');\n",
              "      progress.max = size;\n",
              "      div.appendChild(progress);\n",
              "      document.body.appendChild(div);\n",
              "\n",
              "      const buffers = [];\n",
              "      let downloaded = 0;\n",
              "\n",
              "      const channel = await google.colab.kernel.comms.open(id);\n",
              "      // Send a message to notify the kernel that we're ready.\n",
              "      channel.send({})\n",
              "\n",
              "      for await (const message of channel.messages) {\n",
              "        // Send a message to notify the kernel that we're ready.\n",
              "        channel.send({})\n",
              "        if (message.buffers) {\n",
              "          for (const buffer of message.buffers) {\n",
              "            buffers.push(buffer);\n",
              "            downloaded += buffer.byteLength;\n",
              "            progress.value = downloaded;\n",
              "          }\n",
              "        }\n",
              "      }\n",
              "      const blob = new Blob(buffers, {type: 'application/binary'});\n",
              "      const a = document.createElement('a');\n",
              "      a.href = window.URL.createObjectURL(blob);\n",
              "      a.download = filename;\n",
              "      div.appendChild(a);\n",
              "      a.click();\n",
              "      div.remove();\n",
              "    }\n",
              "  "
            ]
          },
          "metadata": {}
        },
        {
          "output_type": "display_data",
          "data": {
            "text/plain": [
              "<IPython.core.display.Javascript object>"
            ],
            "application/javascript": [
              "download(\"download_237d9e5e-20f5-4ec8-b6a6-2e363cc97103\", \"Waktu_Solat_Perak.csv\", 36925)"
            ]
          },
          "metadata": {}
        }
      ],
      "source": [
        "import requests\n",
        "import json\n",
        "import pandas as pd\n",
        "from google.colab import files\n",
        "\n",
        "\n",
        "city = input(\"Enter your city: \")\n",
        "\n",
        "url = \"http://api.aladhan.com/v1/calendarByCity/2023?city=\"+ city + \"&country=Malaysia&method=11\"\n",
        "response = requests.get(url)\n",
        "data = response.json()\n",
        "\n",
        "month_count = 1\n",
        "\n",
        "rows = []\n",
        "\n",
        "while month_count <= len(data[\"data\"]):\n",
        "    for day in data['data'][\"%s\" % month_count]:\n",
        "        date = day['date']['readable']\n",
        "        islamicdate = day['date']['hijri']['date']\n",
        "        fajr = day['timings']['Fajr']\n",
        "        sunrise = day['timings']['Sunrise']\n",
        "        dhuhr = day['timings']['Dhuhr']\n",
        "        asr = day['timings']['Asr']\n",
        "        maghrib = day['timings']['Maghrib']\n",
        "        isha = day['timings']['Isha']\n",
        "        row = {'City': city, 'Date': date, 'Islamic Date': islamicdate, 'Subuh': fajr, 'Syuruk': sunrise, 'Zohor': dhuhr, 'Asar': asr, 'Maghrib': maghrib, 'Isya': isha}\n",
        "        rows.append(row)\n",
        "    month_count += 1\n",
        "\n",
        "df = pd.DataFrame(rows, columns=['City', 'Date', 'Islamic Date', 'Subuh', 'Syuruk', 'Zohor', 'Asar', 'Maghrib', 'Isya'])\n",
        "\n",
        "print(df)\n",
        "\n",
        "df.to_csv('Waktu_Solat_'+ city + '.csv', index=False)\n",
        "files.download('Waktu_Solat_'+ city + '.csv')"
      ]
    }
  ]
}