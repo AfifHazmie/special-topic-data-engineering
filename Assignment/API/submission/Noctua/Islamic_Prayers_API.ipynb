{
  "nbformat": 4,
  "nbformat_minor": 0,
  "metadata": {
    "colab": {
      "provenance": [],
      "authorship_tag": "ABX9TyPJscIaQFOKIO6DwrRymSni",
      "include_colab_link": true
    },
    "kernelspec": {
      "name": "python3",
      "display_name": "Python 3"
    },
    "language_info": {
      "name": "python"
    }
  },
  "cells": [
    {
      "cell_type": "markdown",
      "metadata": {
        "id": "view-in-github",
        "colab_type": "text"
      },
      "source": [
        "<a href=\"https://colab.research.google.com/github/drshahizan/special-topic-data-engineering/blob/main/Assignment/API/submission/Noctua/Islamic_Prayers_API.ipynb\" target=\"_parent\"><img src=\"https://colab.research.google.com/assets/colab-badge.svg\" alt=\"Open In Colab\"/></a>"
      ]
    },
    {
      "cell_type": "markdown",
      "source": [
        "Importing necessary libraries including requests and json to pull data from the source / url."
      ],
      "metadata": {
        "id": "ryOHtA9DQURa"
      }
    },
    {
      "cell_type": "code",
      "execution_count": 5,
      "metadata": {
        "id": "pod7dNlYOUpz"
      },
      "outputs": [],
      "source": [
        "import requests\n",
        "import json\n",
        "import pandas as pd\n",
        "from google.colab import files"
      ]
    },
    {
      "cell_type": "code",
      "source": [
        "city = input(\"Enter your city: \")\n",
        "\n",
        "url = \"http://api.aladhan.com/v1/calendarByCity/2023?city=\"+ city + \"&country=Malaysia&method=11\"\n",
        "response = requests.get(url)\n",
        "data = response.json()\n",
        "\n",
        "month_count = 1\n",
        "\n",
        "rows = []\n",
        "\n",
        "while month_count <= len(data[\"data\"]):\n",
        "    for day in data['data'][\"%s\" % month_count]:\n",
        "        date = day['date']['readable']\n",
        "        islamicdate = day['date']['hijri']['date']\n",
        "        fajr = day['timings']['Fajr']\n",
        "        sunrise = day['timings']['Sunrise']\n",
        "        dhuhr = day['timings']['Dhuhr']\n",
        "        asr = day['timings']['Asr']\n",
        "        maghrib = day['timings']['Maghrib']\n",
        "        isha = day['timings']['Isha']\n",
        "        row = {'City': city, 'Date': date, 'Islamic Date': islamicdate, 'Subuh': fajr, 'Syuruk': sunrise, 'Zohor': dhuhr, 'Asar': asr, 'Maghrib': maghrib, 'Isya': isha}\n",
        "        rows.append(row)\n",
        "    month_count += 1\n",
        "\n",
        "df = pd.DataFrame(rows, columns=['City', 'Date', 'Islamic Date', 'Subuh', 'Syuruk', 'Zohor', 'Asar', 'Maghrib', 'Isya'])\n",
        "\n",
        "print(df)\n",
        "\n",
        "df.to_csv('Waktu_Solat_'+ city + '.csv', index=False)\n",
        "files.download('Waktu_Solat_'+ city + '.csv')"
      ],
      "metadata": {
        "colab": {
          "base_uri": "https://localhost:8080/",
          "height": 493
        },
        "id": "Bd8PF1DAQR17",
        "outputId": "d399d74c-4e0e-4df5-fd30-2b3a34d12ef1"
      },
      "execution_count": 6,
      "outputs": [
        {
          "output_type": "stream",
          "name": "stdout",
          "text": [
            "Enter your city: Kubang Pasu\n",
            "            City         Date Islamic Date        Subuh       Syuruk  \\\n",
            "0    Kubang Pasu  01 Jan 2023   08-06-1444  06:06 (+08)  07:29 (+08)   \n",
            "1    Kubang Pasu  02 Jan 2023   09-06-1444  06:06 (+08)  07:29 (+08)   \n",
            "2    Kubang Pasu  03 Jan 2023   10-06-1444  06:06 (+08)  07:30 (+08)   \n",
            "3    Kubang Pasu  04 Jan 2023   11-06-1444  06:07 (+08)  07:30 (+08)   \n",
            "4    Kubang Pasu  05 Jan 2023   12-06-1444  06:07 (+08)  07:31 (+08)   \n",
            "..           ...          ...          ...          ...          ...   \n",
            "360  Kubang Pasu  27 Dec 2023   14-06-1445  06:03 (+08)  07:27 (+08)   \n",
            "361  Kubang Pasu  28 Dec 2023   15-06-1445  06:03 (+08)  07:27 (+08)   \n",
            "362  Kubang Pasu  29 Dec 2023   16-06-1445  06:04 (+08)  07:28 (+08)   \n",
            "363  Kubang Pasu  30 Dec 2023   17-06-1445  06:04 (+08)  07:28 (+08)   \n",
            "364  Kubang Pasu  31 Dec 2023   18-06-1445  06:05 (+08)  07:28 (+08)   \n",
            "\n",
            "           Zohor         Asar      Maghrib         Isya  \n",
            "0    13:22 (+08)  16:44 (+08)  19:15 (+08)  20:30 (+08)  \n",
            "1    13:23 (+08)  16:45 (+08)  19:16 (+08)  20:30 (+08)  \n",
            "2    13:23 (+08)  16:45 (+08)  19:16 (+08)  20:31 (+08)  \n",
            "3    13:24 (+08)  16:46 (+08)  19:17 (+08)  20:31 (+08)  \n",
            "4    13:24 (+08)  16:46 (+08)  19:17 (+08)  20:32 (+08)  \n",
            "..           ...          ...          ...          ...  \n",
            "360  13:20 (+08)  16:42 (+08)  19:13 (+08)  20:27 (+08)  \n",
            "361  13:20 (+08)  16:42 (+08)  19:13 (+08)  20:28 (+08)  \n",
            "362  13:21 (+08)  16:43 (+08)  19:14 (+08)  20:28 (+08)  \n",
            "363  13:21 (+08)  16:43 (+08)  19:14 (+08)  20:29 (+08)  \n",
            "364  13:22 (+08)  16:44 (+08)  19:15 (+08)  20:29 (+08)  \n",
            "\n",
            "[365 rows x 9 columns]\n"
          ]
        },
        {
          "output_type": "display_data",
          "data": {
            "text/plain": [
              "<IPython.core.display.Javascript object>"
            ],
            "application/javascript": [
              "\n",
              "    async function download(id, filename, size) {\n",
              "      if (!google.colab.kernel.accessAllowed) {\n",
              "        return;\n",
              "      }\n",
              "      const div = document.createElement('div');\n",
              "      const label = document.createElement('label');\n",
              "      label.textContent = `Downloading \"${filename}\": `;\n",
              "      div.appendChild(label);\n",
              "      const progress = document.createElement('progress');\n",
              "      progress.max = size;\n",
              "      div.appendChild(progress);\n",
              "      document.body.appendChild(div);\n",
              "\n",
              "      const buffers = [];\n",
              "      let downloaded = 0;\n",
              "\n",
              "      const channel = await google.colab.kernel.comms.open(id);\n",
              "      // Send a message to notify the kernel that we're ready.\n",
              "      channel.send({})\n",
              "\n",
              "      for await (const message of channel.messages) {\n",
              "        // Send a message to notify the kernel that we're ready.\n",
              "        channel.send({})\n",
              "        if (message.buffers) {\n",
              "          for (const buffer of message.buffers) {\n",
              "            buffers.push(buffer);\n",
              "            downloaded += buffer.byteLength;\n",
              "            progress.value = downloaded;\n",
              "          }\n",
              "        }\n",
              "      }\n",
              "      const blob = new Blob(buffers, {type: 'application/binary'});\n",
              "      const a = document.createElement('a');\n",
              "      a.href = window.URL.createObjectURL(blob);\n",
              "      a.download = filename;\n",
              "      div.appendChild(a);\n",
              "      a.click();\n",
              "      div.remove();\n",
              "    }\n",
              "  "
            ]
          },
          "metadata": {}
        },
        {
          "output_type": "display_data",
          "data": {
            "text/plain": [
              "<IPython.core.display.Javascript object>"
            ],
            "application/javascript": [
              "download(\"download_e7ff849b-5caf-43f9-9300-7a4df1a9a26d\", \"Waktu_Solat_Kubang Pasu.csv\", 39115)"
            ]
          },
          "metadata": {}
        }
      ]
    }
  ]
}